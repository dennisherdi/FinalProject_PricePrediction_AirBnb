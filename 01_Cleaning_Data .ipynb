{
 "cells": [
  {
   "cell_type": "code",
   "execution_count": 45,
   "metadata": {},
   "outputs": [],
   "source": [
    "## Importing Libraries\n",
    "import numpy as np\n",
    "import pandas as pd\n",
    "import matplotlib.pyplot as plt\n",
    "import seaborn as sns\n",
    "import warnings\n",
    "import re\n",
    "warnings.filterwarnings('ignore')"
   ]
  },
  {
   "cell_type": "code",
   "execution_count": 46,
   "metadata": {},
   "outputs": [],
   "source": [
    "airbnb = pd.read_csv('listings.csv') \n",
    "pd.set_option('display.max_columns', 200)\n",
    "pd.set_option('display.max_rows', 300)"
   ]
  },
  {
   "cell_type": "code",
   "execution_count": 47,
   "metadata": {},
   "outputs": [
    {
     "data": {
      "text/plain": [
       "(3585, 95)"
      ]
     },
     "execution_count": 47,
     "metadata": {},
     "output_type": "execute_result"
    }
   ],
   "source": [
    "airbnb.shape#melihat banyak row dan  kolom"
   ]
  },
  {
   "cell_type": "code",
   "execution_count": 48,
   "metadata": {},
   "outputs": [],
   "source": [
    "airbnb.duplicated().sum() #yang duplikat di jadiin satu lalu di jumlah\n",
    "airbnb.drop_duplicates(inplace=True)"
   ]
  },
  {
   "cell_type": "code",
   "execution_count": 49,
   "metadata": {
    "scrolled": false
   },
   "outputs": [
    {
     "data": {
      "text/plain": [
       "has_availability                    3585\n",
       "license                             3585\n",
       "neighbourhood_group_cleansed        3585\n",
       "jurisdiction_names                  3585\n",
       "square_feet                         3529\n",
       "monthly_price                       2697\n",
       "weekly_price                        2693\n",
       "security_deposit                    2243\n",
       "notes                               1975\n",
       "interaction                         1554\n",
       "access                              1489\n",
       "neighborhood_overview               1415\n",
       "host_about                          1309\n",
       "transit                             1290\n",
       "house_rules                         1192\n",
       "cleaning_fee                        1107\n",
       "space                               1057\n",
       "review_scores_accuracy               823\n",
       "review_scores_location               822\n",
       "review_scores_value                  821\n",
       "review_scores_checkin                820\n",
       "review_scores_communication          818\n",
       "review_scores_cleanliness            818\n",
       "review_scores_rating                 813\n",
       "reviews_per_month                    756\n",
       "last_review                          756\n",
       "first_review                         756\n",
       "xl_picture_url                       599\n",
       "medium_url                           599\n",
       "thumbnail_url                        599\n",
       "neighbourhood                        543\n",
       "host_response_time                   471\n",
       "host_response_rate                   471\n",
       "host_acceptance_rate                 471\n",
       "host_neighbourhood                   339\n",
       "summary                              143\n",
       "zipcode                               38\n",
       "bathrooms                             14\n",
       "market                                14\n",
       "host_location                         11\n",
       "bedrooms                              10\n",
       "beds                                   9\n",
       "property_type                          3\n",
       "city                                   2\n",
       "cancellation_policy                    0\n",
       "calculated_host_listings_count         0\n",
       "require_guest_phone_verification       0\n",
       "require_guest_profile_picture          0\n",
       "instant_bookable                       0\n",
       "guests_included                        0\n",
       "extra_people                           0\n",
       "minimum_nights                         0\n",
       "maximum_nights                         0\n",
       "calendar_updated                       0\n",
       "number_of_reviews                      0\n",
       "availability_30                        0\n",
       "availability_60                        0\n",
       "calendar_last_scraped                  0\n",
       "availability_365                       0\n",
       "requires_license                       0\n",
       "availability_90                        0\n",
       "id                                     0\n",
       "price                                  0\n",
       "host_total_listings_count              0\n",
       "scrape_id                              0\n",
       "last_scraped                           0\n",
       "name                                   0\n",
       "description                            0\n",
       "experiences_offered                    0\n",
       "picture_url                            0\n",
       "host_id                                0\n",
       "host_url                               0\n",
       "host_name                              0\n",
       "host_since                             0\n",
       "host_is_superhost                      0\n",
       "host_thumbnail_url                     0\n",
       "host_picture_url                       0\n",
       "host_listings_count                    0\n",
       "host_verifications                     0\n",
       "amenities                              0\n",
       "host_has_profile_pic                   0\n",
       "host_identity_verified                 0\n",
       "street                                 0\n",
       "neighbourhood_cleansed                 0\n",
       "state                                  0\n",
       "smart_location                         0\n",
       "country_code                           0\n",
       "listing_url                            0\n",
       "latitude                               0\n",
       "longitude                              0\n",
       "is_location_exact                      0\n",
       "room_type                              0\n",
       "accommodates                           0\n",
       "bed_type                               0\n",
       "country                                0\n",
       "dtype: int64"
      ]
     },
     "execution_count": 49,
     "metadata": {},
     "output_type": "execute_result"
    }
   ],
   "source": [
    "airbnb.isna().sum().sort_values(ascending=False)"
   ]
  },
  {
   "cell_type": "markdown",
   "metadata": {},
   "source": [
    "# Features Use \n",
    "\n",
    "neighbourhood__cleansed : lokasi listing tersebut berada/ distrik. \n",
    "\n",
    "property_type : tipe properti dari listing. exp: House/ Apartment/ ...\n",
    "\n",
    "room_type: tipe ruangan dari listing (Entire home/apt, Private room, or Shared room).\n",
    "\n",
    "accommodates : jumlah orang yang listing dapat akomodasikan.\n",
    "\n",
    "bathrooms: jumlah bathrooms\n",
    "\n",
    "bedrooms: jumlah bedrooms\n",
    "\n",
    "beds: jumlah tempat tidur\n",
    "\n",
    "amenities : perlengkapan yang ditawarkan host untuk pengunjungnya. exp: Air Conditioning, Refrigerator, Wifi, ....\n",
    "\n",
    "cleaning_fee : biaya yang ditentukan host untuk bersih-bersih.\n",
    "\n",
    "minimum_nights : minimum hari\n",
    "\n",
    "availability_365 : jumlah ketersediaan listing per hari dalam setahun\n",
    "\n",
    "guests_included : jumlah perkiraan dapat menampung tamu. ada denda bila melebihi yang ditentukan\n",
    "\n",
    "cancellation_policy : kebijakan pembatalan, biasanya ada maksimum hari untuk pembatalan apabila ingin refund. 7 hari sebelum tanggal menginap. bila lebih dari itu maka uang tidak bisa dikembalikan\n",
    "\n",
    "price : harga listing\n",
    "\n",
    "instant_bookable : apakah cara pemesanan property kepada hostnya dapat secara langsung atau membutuhkan persetujuan terlebih dahulu sebelum melakukan pemesanan\n",
    "\n",
    "extra_people : harga per tamu tambahan di atas harga yang termasuk tamu\n"
   ]
  },
  {
   "cell_type": "code",
   "execution_count": 7,
   "metadata": {},
   "outputs": [],
   "source": [
    "columns_use = ['neighbourhood_cleansed',\n",
    "                   'property_type', 'room_type', 'accommodates', 'bathrooms', 'instant_bookable',  \n",
    "                   'bedrooms', 'bed_type','beds','amenities', 'price', 'cleaning_fee','availability_30',\n",
    "               'availability_60','availability_90','availability_365','guests_included','extra_people',\n",
    "               'minimum_nights', 'cancellation_policy']\n",
    "\n",
    "df = airbnb[columns_use]"
   ]
  },
  {
   "cell_type": "code",
   "execution_count": 8,
   "metadata": {},
   "outputs": [
    {
     "data": {
      "text/html": [
       "<div>\n",
       "<style scoped>\n",
       "    .dataframe tbody tr th:only-of-type {\n",
       "        vertical-align: middle;\n",
       "    }\n",
       "\n",
       "    .dataframe tbody tr th {\n",
       "        vertical-align: top;\n",
       "    }\n",
       "\n",
       "    .dataframe thead th {\n",
       "        text-align: right;\n",
       "    }\n",
       "</style>\n",
       "<table border=\"1\" class=\"dataframe\">\n",
       "  <thead>\n",
       "    <tr style=\"text-align: right;\">\n",
       "      <th></th>\n",
       "      <th>neighbourhood_cleansed</th>\n",
       "      <th>property_type</th>\n",
       "      <th>room_type</th>\n",
       "      <th>accommodates</th>\n",
       "      <th>bathrooms</th>\n",
       "      <th>instant_bookable</th>\n",
       "      <th>bedrooms</th>\n",
       "      <th>bed_type</th>\n",
       "      <th>beds</th>\n",
       "      <th>amenities</th>\n",
       "      <th>price</th>\n",
       "      <th>cleaning_fee</th>\n",
       "      <th>availability_30</th>\n",
       "      <th>availability_60</th>\n",
       "      <th>availability_90</th>\n",
       "      <th>availability_365</th>\n",
       "      <th>guests_included</th>\n",
       "      <th>extra_people</th>\n",
       "      <th>minimum_nights</th>\n",
       "      <th>cancellation_policy</th>\n",
       "    </tr>\n",
       "  </thead>\n",
       "  <tbody>\n",
       "    <tr>\n",
       "      <th>0</th>\n",
       "      <td>Roslindale</td>\n",
       "      <td>House</td>\n",
       "      <td>Entire home/apt</td>\n",
       "      <td>4</td>\n",
       "      <td>1.5</td>\n",
       "      <td>f</td>\n",
       "      <td>2.0</td>\n",
       "      <td>Real Bed</td>\n",
       "      <td>3.0</td>\n",
       "      <td>{TV,\"Wireless Internet\",Kitchen,\"Free Parking ...</td>\n",
       "      <td>$250.00</td>\n",
       "      <td>$35.00</td>\n",
       "      <td>0</td>\n",
       "      <td>0</td>\n",
       "      <td>0</td>\n",
       "      <td>0</td>\n",
       "      <td>1</td>\n",
       "      <td>$0.00</td>\n",
       "      <td>2</td>\n",
       "      <td>moderate</td>\n",
       "    </tr>\n",
       "    <tr>\n",
       "      <th>1</th>\n",
       "      <td>Roslindale</td>\n",
       "      <td>Apartment</td>\n",
       "      <td>Private room</td>\n",
       "      <td>2</td>\n",
       "      <td>1.0</td>\n",
       "      <td>t</td>\n",
       "      <td>1.0</td>\n",
       "      <td>Real Bed</td>\n",
       "      <td>1.0</td>\n",
       "      <td>{TV,Internet,\"Wireless Internet\",\"Air Conditio...</td>\n",
       "      <td>$65.00</td>\n",
       "      <td>$10.00</td>\n",
       "      <td>26</td>\n",
       "      <td>54</td>\n",
       "      <td>84</td>\n",
       "      <td>359</td>\n",
       "      <td>0</td>\n",
       "      <td>$0.00</td>\n",
       "      <td>2</td>\n",
       "      <td>moderate</td>\n",
       "    </tr>\n",
       "    <tr>\n",
       "      <th>2</th>\n",
       "      <td>Roslindale</td>\n",
       "      <td>Apartment</td>\n",
       "      <td>Private room</td>\n",
       "      <td>2</td>\n",
       "      <td>1.0</td>\n",
       "      <td>f</td>\n",
       "      <td>1.0</td>\n",
       "      <td>Real Bed</td>\n",
       "      <td>1.0</td>\n",
       "      <td>{TV,\"Cable TV\",\"Wireless Internet\",\"Air Condit...</td>\n",
       "      <td>$65.00</td>\n",
       "      <td>NaN</td>\n",
       "      <td>19</td>\n",
       "      <td>46</td>\n",
       "      <td>61</td>\n",
       "      <td>319</td>\n",
       "      <td>1</td>\n",
       "      <td>$20.00</td>\n",
       "      <td>3</td>\n",
       "      <td>moderate</td>\n",
       "    </tr>\n",
       "    <tr>\n",
       "      <th>3</th>\n",
       "      <td>Roslindale</td>\n",
       "      <td>House</td>\n",
       "      <td>Private room</td>\n",
       "      <td>4</td>\n",
       "      <td>1.0</td>\n",
       "      <td>f</td>\n",
       "      <td>1.0</td>\n",
       "      <td>Real Bed</td>\n",
       "      <td>2.0</td>\n",
       "      <td>{TV,Internet,\"Wireless Internet\",\"Air Conditio...</td>\n",
       "      <td>$75.00</td>\n",
       "      <td>$50.00</td>\n",
       "      <td>6</td>\n",
       "      <td>16</td>\n",
       "      <td>26</td>\n",
       "      <td>98</td>\n",
       "      <td>2</td>\n",
       "      <td>$25.00</td>\n",
       "      <td>1</td>\n",
       "      <td>moderate</td>\n",
       "    </tr>\n",
       "    <tr>\n",
       "      <th>4</th>\n",
       "      <td>Roslindale</td>\n",
       "      <td>House</td>\n",
       "      <td>Private room</td>\n",
       "      <td>2</td>\n",
       "      <td>1.5</td>\n",
       "      <td>f</td>\n",
       "      <td>1.0</td>\n",
       "      <td>Real Bed</td>\n",
       "      <td>2.0</td>\n",
       "      <td>{Internet,\"Wireless Internet\",\"Air Conditionin...</td>\n",
       "      <td>$79.00</td>\n",
       "      <td>$15.00</td>\n",
       "      <td>13</td>\n",
       "      <td>34</td>\n",
       "      <td>59</td>\n",
       "      <td>334</td>\n",
       "      <td>1</td>\n",
       "      <td>$0.00</td>\n",
       "      <td>2</td>\n",
       "      <td>flexible</td>\n",
       "    </tr>\n",
       "  </tbody>\n",
       "</table>\n",
       "</div>"
      ],
      "text/plain": [
       "  neighbourhood_cleansed property_type        room_type  accommodates  \\\n",
       "0             Roslindale         House  Entire home/apt             4   \n",
       "1             Roslindale     Apartment     Private room             2   \n",
       "2             Roslindale     Apartment     Private room             2   \n",
       "3             Roslindale         House     Private room             4   \n",
       "4             Roslindale         House     Private room             2   \n",
       "\n",
       "   bathrooms instant_bookable  bedrooms  bed_type  beds  \\\n",
       "0        1.5                f       2.0  Real Bed   3.0   \n",
       "1        1.0                t       1.0  Real Bed   1.0   \n",
       "2        1.0                f       1.0  Real Bed   1.0   \n",
       "3        1.0                f       1.0  Real Bed   2.0   \n",
       "4        1.5                f       1.0  Real Bed   2.0   \n",
       "\n",
       "                                           amenities    price cleaning_fee  \\\n",
       "0  {TV,\"Wireless Internet\",Kitchen,\"Free Parking ...  $250.00       $35.00   \n",
       "1  {TV,Internet,\"Wireless Internet\",\"Air Conditio...   $65.00       $10.00   \n",
       "2  {TV,\"Cable TV\",\"Wireless Internet\",\"Air Condit...   $65.00          NaN   \n",
       "3  {TV,Internet,\"Wireless Internet\",\"Air Conditio...   $75.00       $50.00   \n",
       "4  {Internet,\"Wireless Internet\",\"Air Conditionin...   $79.00       $15.00   \n",
       "\n",
       "   availability_30  availability_60  availability_90  availability_365  \\\n",
       "0                0                0                0                 0   \n",
       "1               26               54               84               359   \n",
       "2               19               46               61               319   \n",
       "3                6               16               26                98   \n",
       "4               13               34               59               334   \n",
       "\n",
       "   guests_included extra_people  minimum_nights cancellation_policy  \n",
       "0                1        $0.00               2            moderate  \n",
       "1                0        $0.00               2            moderate  \n",
       "2                1       $20.00               3            moderate  \n",
       "3                2       $25.00               1            moderate  \n",
       "4                1        $0.00               2            flexible  "
      ]
     },
     "execution_count": 8,
     "metadata": {},
     "output_type": "execute_result"
    }
   ],
   "source": [
    "df.head(5)"
   ]
  },
  {
   "cell_type": "code",
   "execution_count": 9,
   "metadata": {},
   "outputs": [
    {
     "data": {
      "text/plain": [
       "cleaning_fee              1107\n",
       "bathrooms                   14\n",
       "bedrooms                    10\n",
       "beds                         9\n",
       "property_type                3\n",
       "neighbourhood_cleansed       0\n",
       "availability_60              0\n",
       "minimum_nights               0\n",
       "extra_people                 0\n",
       "guests_included              0\n",
       "availability_365             0\n",
       "availability_90              0\n",
       "price                        0\n",
       "availability_30              0\n",
       "amenities                    0\n",
       "bed_type                     0\n",
       "instant_bookable             0\n",
       "accommodates                 0\n",
       "room_type                    0\n",
       "cancellation_policy          0\n",
       "dtype: int64"
      ]
     },
     "execution_count": 9,
     "metadata": {},
     "output_type": "execute_result"
    }
   ],
   "source": [
    "df.isna().sum().sort_values(ascending=False)"
   ]
  },
  {
   "cell_type": "code",
   "execution_count": 10,
   "metadata": {},
   "outputs": [
    {
     "data": {
      "text/html": [
       "<div>\n",
       "<style scoped>\n",
       "    .dataframe tbody tr th:only-of-type {\n",
       "        vertical-align: middle;\n",
       "    }\n",
       "\n",
       "    .dataframe tbody tr th {\n",
       "        vertical-align: top;\n",
       "    }\n",
       "\n",
       "    .dataframe thead th {\n",
       "        text-align: right;\n",
       "    }\n",
       "</style>\n",
       "<table border=\"1\" class=\"dataframe\">\n",
       "  <thead>\n",
       "    <tr style=\"text-align: right;\">\n",
       "      <th></th>\n",
       "      <th>accommodates</th>\n",
       "      <th>bathrooms</th>\n",
       "      <th>bedrooms</th>\n",
       "      <th>beds</th>\n",
       "      <th>availability_30</th>\n",
       "      <th>availability_60</th>\n",
       "      <th>availability_90</th>\n",
       "      <th>availability_365</th>\n",
       "      <th>guests_included</th>\n",
       "      <th>minimum_nights</th>\n",
       "    </tr>\n",
       "  </thead>\n",
       "  <tbody>\n",
       "    <tr>\n",
       "      <th>count</th>\n",
       "      <td>3585.000000</td>\n",
       "      <td>3571.000000</td>\n",
       "      <td>3575.000000</td>\n",
       "      <td>3576.000000</td>\n",
       "      <td>3585.00000</td>\n",
       "      <td>3585.000000</td>\n",
       "      <td>3585.000000</td>\n",
       "      <td>3585.000000</td>\n",
       "      <td>3585.000000</td>\n",
       "      <td>3585.000000</td>\n",
       "    </tr>\n",
       "    <tr>\n",
       "      <th>mean</th>\n",
       "      <td>3.041283</td>\n",
       "      <td>1.221647</td>\n",
       "      <td>1.255944</td>\n",
       "      <td>1.609060</td>\n",
       "      <td>8.64993</td>\n",
       "      <td>21.833194</td>\n",
       "      <td>38.558159</td>\n",
       "      <td>179.346444</td>\n",
       "      <td>1.429847</td>\n",
       "      <td>3.171269</td>\n",
       "    </tr>\n",
       "    <tr>\n",
       "      <th>std</th>\n",
       "      <td>1.778929</td>\n",
       "      <td>0.501487</td>\n",
       "      <td>0.753060</td>\n",
       "      <td>1.011745</td>\n",
       "      <td>10.43533</td>\n",
       "      <td>21.860966</td>\n",
       "      <td>33.158272</td>\n",
       "      <td>142.136180</td>\n",
       "      <td>1.056787</td>\n",
       "      <td>8.874133</td>\n",
       "    </tr>\n",
       "    <tr>\n",
       "      <th>min</th>\n",
       "      <td>1.000000</td>\n",
       "      <td>0.000000</td>\n",
       "      <td>0.000000</td>\n",
       "      <td>0.000000</td>\n",
       "      <td>0.00000</td>\n",
       "      <td>0.000000</td>\n",
       "      <td>0.000000</td>\n",
       "      <td>0.000000</td>\n",
       "      <td>0.000000</td>\n",
       "      <td>1.000000</td>\n",
       "    </tr>\n",
       "    <tr>\n",
       "      <th>25%</th>\n",
       "      <td>2.000000</td>\n",
       "      <td>1.000000</td>\n",
       "      <td>1.000000</td>\n",
       "      <td>1.000000</td>\n",
       "      <td>0.00000</td>\n",
       "      <td>0.000000</td>\n",
       "      <td>0.000000</td>\n",
       "      <td>19.000000</td>\n",
       "      <td>1.000000</td>\n",
       "      <td>1.000000</td>\n",
       "    </tr>\n",
       "    <tr>\n",
       "      <th>50%</th>\n",
       "      <td>2.000000</td>\n",
       "      <td>1.000000</td>\n",
       "      <td>1.000000</td>\n",
       "      <td>1.000000</td>\n",
       "      <td>4.00000</td>\n",
       "      <td>16.000000</td>\n",
       "      <td>37.000000</td>\n",
       "      <td>179.000000</td>\n",
       "      <td>1.000000</td>\n",
       "      <td>2.000000</td>\n",
       "    </tr>\n",
       "    <tr>\n",
       "      <th>75%</th>\n",
       "      <td>4.000000</td>\n",
       "      <td>1.000000</td>\n",
       "      <td>2.000000</td>\n",
       "      <td>2.000000</td>\n",
       "      <td>15.00000</td>\n",
       "      <td>40.000000</td>\n",
       "      <td>68.000000</td>\n",
       "      <td>325.000000</td>\n",
       "      <td>1.000000</td>\n",
       "      <td>3.000000</td>\n",
       "    </tr>\n",
       "    <tr>\n",
       "      <th>max</th>\n",
       "      <td>16.000000</td>\n",
       "      <td>6.000000</td>\n",
       "      <td>5.000000</td>\n",
       "      <td>16.000000</td>\n",
       "      <td>30.00000</td>\n",
       "      <td>60.000000</td>\n",
       "      <td>90.000000</td>\n",
       "      <td>365.000000</td>\n",
       "      <td>14.000000</td>\n",
       "      <td>300.000000</td>\n",
       "    </tr>\n",
       "  </tbody>\n",
       "</table>\n",
       "</div>"
      ],
      "text/plain": [
       "       accommodates    bathrooms     bedrooms         beds  availability_30  \\\n",
       "count   3585.000000  3571.000000  3575.000000  3576.000000       3585.00000   \n",
       "mean       3.041283     1.221647     1.255944     1.609060          8.64993   \n",
       "std        1.778929     0.501487     0.753060     1.011745         10.43533   \n",
       "min        1.000000     0.000000     0.000000     0.000000          0.00000   \n",
       "25%        2.000000     1.000000     1.000000     1.000000          0.00000   \n",
       "50%        2.000000     1.000000     1.000000     1.000000          4.00000   \n",
       "75%        4.000000     1.000000     2.000000     2.000000         15.00000   \n",
       "max       16.000000     6.000000     5.000000    16.000000         30.00000   \n",
       "\n",
       "       availability_60  availability_90  availability_365  guests_included  \\\n",
       "count      3585.000000      3585.000000       3585.000000      3585.000000   \n",
       "mean         21.833194        38.558159        179.346444         1.429847   \n",
       "std          21.860966        33.158272        142.136180         1.056787   \n",
       "min           0.000000         0.000000          0.000000         0.000000   \n",
       "25%           0.000000         0.000000         19.000000         1.000000   \n",
       "50%          16.000000        37.000000        179.000000         1.000000   \n",
       "75%          40.000000        68.000000        325.000000         1.000000   \n",
       "max          60.000000        90.000000        365.000000        14.000000   \n",
       "\n",
       "       minimum_nights  \n",
       "count     3585.000000  \n",
       "mean         3.171269  \n",
       "std          8.874133  \n",
       "min          1.000000  \n",
       "25%          1.000000  \n",
       "50%          2.000000  \n",
       "75%          3.000000  \n",
       "max        300.000000  "
      ]
     },
     "execution_count": 10,
     "metadata": {},
     "output_type": "execute_result"
    }
   ],
   "source": [
    "df.describe()"
   ]
  },
  {
   "cell_type": "code",
   "execution_count": 11,
   "metadata": {
    "scrolled": true
   },
   "outputs": [
    {
     "data": {
      "text/plain": [
       "Index(['neighbourhood_cleansed', 'property_type', 'room_type', 'accommodates',\n",
       "       'bathrooms', 'instant_bookable', 'bedrooms', 'bed_type', 'beds',\n",
       "       'amenities', 'price', 'cleaning_fee', 'availability_30',\n",
       "       'availability_60', 'availability_90', 'availability_365',\n",
       "       'guests_included', 'extra_people', 'minimum_nights',\n",
       "       'cancellation_policy'],\n",
       "      dtype='object')"
      ]
     },
     "execution_count": 11,
     "metadata": {},
     "output_type": "execute_result"
    }
   ],
   "source": [
    "df.columns"
   ]
  },
  {
   "cell_type": "code",
   "execution_count": 12,
   "metadata": {},
   "outputs": [
    {
     "data": {
      "text/html": [
       "<div>\n",
       "<style scoped>\n",
       "    .dataframe tbody tr th:only-of-type {\n",
       "        vertical-align: middle;\n",
       "    }\n",
       "\n",
       "    .dataframe tbody tr th {\n",
       "        vertical-align: top;\n",
       "    }\n",
       "\n",
       "    .dataframe thead th {\n",
       "        text-align: right;\n",
       "    }\n",
       "</style>\n",
       "<table border=\"1\" class=\"dataframe\">\n",
       "  <thead>\n",
       "    <tr style=\"text-align: right;\">\n",
       "      <th></th>\n",
       "      <th>neighbourhood_cleansed</th>\n",
       "      <th>property_type</th>\n",
       "      <th>room_type</th>\n",
       "      <th>accommodates</th>\n",
       "      <th>bathrooms</th>\n",
       "      <th>instant_bookable</th>\n",
       "      <th>bedrooms</th>\n",
       "      <th>bed_type</th>\n",
       "      <th>beds</th>\n",
       "      <th>amenities</th>\n",
       "      <th>price</th>\n",
       "      <th>cleaning_fee</th>\n",
       "      <th>availability_30</th>\n",
       "      <th>availability_60</th>\n",
       "      <th>availability_90</th>\n",
       "      <th>availability_365</th>\n",
       "      <th>guests_included</th>\n",
       "      <th>extra_people</th>\n",
       "      <th>minimum_nights</th>\n",
       "      <th>cancellation_policy</th>\n",
       "    </tr>\n",
       "  </thead>\n",
       "  <tbody>\n",
       "    <tr>\n",
       "      <th>0</th>\n",
       "      <td>Roslindale</td>\n",
       "      <td>House</td>\n",
       "      <td>Entire home/apt</td>\n",
       "      <td>4</td>\n",
       "      <td>1.5</td>\n",
       "      <td>f</td>\n",
       "      <td>2.0</td>\n",
       "      <td>Real Bed</td>\n",
       "      <td>3.0</td>\n",
       "      <td>{TV,\"Wireless Internet\",Kitchen,\"Free Parking ...</td>\n",
       "      <td>$250.00</td>\n",
       "      <td>$35.00</td>\n",
       "      <td>0</td>\n",
       "      <td>0</td>\n",
       "      <td>0</td>\n",
       "      <td>0</td>\n",
       "      <td>1</td>\n",
       "      <td>$0.00</td>\n",
       "      <td>2</td>\n",
       "      <td>moderate</td>\n",
       "    </tr>\n",
       "    <tr>\n",
       "      <th>1</th>\n",
       "      <td>Roslindale</td>\n",
       "      <td>Apartment</td>\n",
       "      <td>Private room</td>\n",
       "      <td>2</td>\n",
       "      <td>1.0</td>\n",
       "      <td>t</td>\n",
       "      <td>1.0</td>\n",
       "      <td>Real Bed</td>\n",
       "      <td>1.0</td>\n",
       "      <td>{TV,Internet,\"Wireless Internet\",\"Air Conditio...</td>\n",
       "      <td>$65.00</td>\n",
       "      <td>$10.00</td>\n",
       "      <td>26</td>\n",
       "      <td>54</td>\n",
       "      <td>84</td>\n",
       "      <td>359</td>\n",
       "      <td>0</td>\n",
       "      <td>$0.00</td>\n",
       "      <td>2</td>\n",
       "      <td>moderate</td>\n",
       "    </tr>\n",
       "    <tr>\n",
       "      <th>2</th>\n",
       "      <td>Roslindale</td>\n",
       "      <td>Apartment</td>\n",
       "      <td>Private room</td>\n",
       "      <td>2</td>\n",
       "      <td>1.0</td>\n",
       "      <td>f</td>\n",
       "      <td>1.0</td>\n",
       "      <td>Real Bed</td>\n",
       "      <td>1.0</td>\n",
       "      <td>{TV,\"Cable TV\",\"Wireless Internet\",\"Air Condit...</td>\n",
       "      <td>$65.00</td>\n",
       "      <td>NaN</td>\n",
       "      <td>19</td>\n",
       "      <td>46</td>\n",
       "      <td>61</td>\n",
       "      <td>319</td>\n",
       "      <td>1</td>\n",
       "      <td>$20.00</td>\n",
       "      <td>3</td>\n",
       "      <td>moderate</td>\n",
       "    </tr>\n",
       "    <tr>\n",
       "      <th>3</th>\n",
       "      <td>Roslindale</td>\n",
       "      <td>House</td>\n",
       "      <td>Private room</td>\n",
       "      <td>4</td>\n",
       "      <td>1.0</td>\n",
       "      <td>f</td>\n",
       "      <td>1.0</td>\n",
       "      <td>Real Bed</td>\n",
       "      <td>2.0</td>\n",
       "      <td>{TV,Internet,\"Wireless Internet\",\"Air Conditio...</td>\n",
       "      <td>$75.00</td>\n",
       "      <td>$50.00</td>\n",
       "      <td>6</td>\n",
       "      <td>16</td>\n",
       "      <td>26</td>\n",
       "      <td>98</td>\n",
       "      <td>2</td>\n",
       "      <td>$25.00</td>\n",
       "      <td>1</td>\n",
       "      <td>moderate</td>\n",
       "    </tr>\n",
       "    <tr>\n",
       "      <th>4</th>\n",
       "      <td>Roslindale</td>\n",
       "      <td>House</td>\n",
       "      <td>Private room</td>\n",
       "      <td>2</td>\n",
       "      <td>1.5</td>\n",
       "      <td>f</td>\n",
       "      <td>1.0</td>\n",
       "      <td>Real Bed</td>\n",
       "      <td>2.0</td>\n",
       "      <td>{Internet,\"Wireless Internet\",\"Air Conditionin...</td>\n",
       "      <td>$79.00</td>\n",
       "      <td>$15.00</td>\n",
       "      <td>13</td>\n",
       "      <td>34</td>\n",
       "      <td>59</td>\n",
       "      <td>334</td>\n",
       "      <td>1</td>\n",
       "      <td>$0.00</td>\n",
       "      <td>2</td>\n",
       "      <td>flexible</td>\n",
       "    </tr>\n",
       "    <tr>\n",
       "      <th>...</th>\n",
       "      <td>...</td>\n",
       "      <td>...</td>\n",
       "      <td>...</td>\n",
       "      <td>...</td>\n",
       "      <td>...</td>\n",
       "      <td>...</td>\n",
       "      <td>...</td>\n",
       "      <td>...</td>\n",
       "      <td>...</td>\n",
       "      <td>...</td>\n",
       "      <td>...</td>\n",
       "      <td>...</td>\n",
       "      <td>...</td>\n",
       "      <td>...</td>\n",
       "      <td>...</td>\n",
       "      <td>...</td>\n",
       "      <td>...</td>\n",
       "      <td>...</td>\n",
       "      <td>...</td>\n",
       "      <td>...</td>\n",
       "    </tr>\n",
       "    <tr>\n",
       "      <th>3580</th>\n",
       "      <td>Charlestown</td>\n",
       "      <td>Apartment</td>\n",
       "      <td>Private room</td>\n",
       "      <td>3</td>\n",
       "      <td>1.0</td>\n",
       "      <td>t</td>\n",
       "      <td>1.0</td>\n",
       "      <td>Real Bed</td>\n",
       "      <td>1.0</td>\n",
       "      <td>{Internet,\"Wireless Internet\",\"Air Conditionin...</td>\n",
       "      <td>$69.00</td>\n",
       "      <td>NaN</td>\n",
       "      <td>21</td>\n",
       "      <td>51</td>\n",
       "      <td>81</td>\n",
       "      <td>356</td>\n",
       "      <td>1</td>\n",
       "      <td>$24.00</td>\n",
       "      <td>2</td>\n",
       "      <td>strict</td>\n",
       "    </tr>\n",
       "    <tr>\n",
       "      <th>3581</th>\n",
       "      <td>Allston</td>\n",
       "      <td>Apartment</td>\n",
       "      <td>Private room</td>\n",
       "      <td>2</td>\n",
       "      <td>1.0</td>\n",
       "      <td>f</td>\n",
       "      <td>1.0</td>\n",
       "      <td>Real Bed</td>\n",
       "      <td>1.0</td>\n",
       "      <td>{TV,Internet,\"Wireless Internet\",\"Air Conditio...</td>\n",
       "      <td>$150.00</td>\n",
       "      <td>$15.00</td>\n",
       "      <td>29</td>\n",
       "      <td>59</td>\n",
       "      <td>89</td>\n",
       "      <td>364</td>\n",
       "      <td>1</td>\n",
       "      <td>$0.00</td>\n",
       "      <td>3</td>\n",
       "      <td>strict</td>\n",
       "    </tr>\n",
       "    <tr>\n",
       "      <th>3582</th>\n",
       "      <td>Charlestown</td>\n",
       "      <td>Apartment</td>\n",
       "      <td>Entire home/apt</td>\n",
       "      <td>4</td>\n",
       "      <td>1.0</td>\n",
       "      <td>f</td>\n",
       "      <td>1.0</td>\n",
       "      <td>Real Bed</td>\n",
       "      <td>1.0</td>\n",
       "      <td>{\"translation missing: en.hosting_amenity_49\",...</td>\n",
       "      <td>$198.00</td>\n",
       "      <td>NaN</td>\n",
       "      <td>0</td>\n",
       "      <td>15</td>\n",
       "      <td>40</td>\n",
       "      <td>40</td>\n",
       "      <td>1</td>\n",
       "      <td>$0.00</td>\n",
       "      <td>3</td>\n",
       "      <td>flexible</td>\n",
       "    </tr>\n",
       "    <tr>\n",
       "      <th>3583</th>\n",
       "      <td>Charlestown</td>\n",
       "      <td>Apartment</td>\n",
       "      <td>Private room</td>\n",
       "      <td>2</td>\n",
       "      <td>1.0</td>\n",
       "      <td>f</td>\n",
       "      <td>1.0</td>\n",
       "      <td>Real Bed</td>\n",
       "      <td>1.0</td>\n",
       "      <td>{Kitchen,Gym,\"Family/Kid Friendly\",Washer,Drye...</td>\n",
       "      <td>$65.00</td>\n",
       "      <td>NaN</td>\n",
       "      <td>5</td>\n",
       "      <td>5</td>\n",
       "      <td>5</td>\n",
       "      <td>253</td>\n",
       "      <td>1</td>\n",
       "      <td>$30.00</td>\n",
       "      <td>1</td>\n",
       "      <td>strict</td>\n",
       "    </tr>\n",
       "    <tr>\n",
       "      <th>3584</th>\n",
       "      <td>Charlestown</td>\n",
       "      <td>Apartment</td>\n",
       "      <td>Private room</td>\n",
       "      <td>2</td>\n",
       "      <td>1.0</td>\n",
       "      <td>t</td>\n",
       "      <td>1.0</td>\n",
       "      <td>Real Bed</td>\n",
       "      <td>1.0</td>\n",
       "      <td>{\"Wireless Internet\",Kitchen,Essentials,\"trans...</td>\n",
       "      <td>$65.00</td>\n",
       "      <td>$25.00</td>\n",
       "      <td>17</td>\n",
       "      <td>45</td>\n",
       "      <td>75</td>\n",
       "      <td>165</td>\n",
       "      <td>1</td>\n",
       "      <td>$30.00</td>\n",
       "      <td>1</td>\n",
       "      <td>flexible</td>\n",
       "    </tr>\n",
       "  </tbody>\n",
       "</table>\n",
       "<p>3585 rows × 20 columns</p>\n",
       "</div>"
      ],
      "text/plain": [
       "     neighbourhood_cleansed property_type        room_type  accommodates  \\\n",
       "0                Roslindale         House  Entire home/apt             4   \n",
       "1                Roslindale     Apartment     Private room             2   \n",
       "2                Roslindale     Apartment     Private room             2   \n",
       "3                Roslindale         House     Private room             4   \n",
       "4                Roslindale         House     Private room             2   \n",
       "...                     ...           ...              ...           ...   \n",
       "3580            Charlestown     Apartment     Private room             3   \n",
       "3581                Allston     Apartment     Private room             2   \n",
       "3582            Charlestown     Apartment  Entire home/apt             4   \n",
       "3583            Charlestown     Apartment     Private room             2   \n",
       "3584            Charlestown     Apartment     Private room             2   \n",
       "\n",
       "      bathrooms instant_bookable  bedrooms  bed_type  beds  \\\n",
       "0           1.5                f       2.0  Real Bed   3.0   \n",
       "1           1.0                t       1.0  Real Bed   1.0   \n",
       "2           1.0                f       1.0  Real Bed   1.0   \n",
       "3           1.0                f       1.0  Real Bed   2.0   \n",
       "4           1.5                f       1.0  Real Bed   2.0   \n",
       "...         ...              ...       ...       ...   ...   \n",
       "3580        1.0                t       1.0  Real Bed   1.0   \n",
       "3581        1.0                f       1.0  Real Bed   1.0   \n",
       "3582        1.0                f       1.0  Real Bed   1.0   \n",
       "3583        1.0                f       1.0  Real Bed   1.0   \n",
       "3584        1.0                t       1.0  Real Bed   1.0   \n",
       "\n",
       "                                              amenities    price cleaning_fee  \\\n",
       "0     {TV,\"Wireless Internet\",Kitchen,\"Free Parking ...  $250.00       $35.00   \n",
       "1     {TV,Internet,\"Wireless Internet\",\"Air Conditio...   $65.00       $10.00   \n",
       "2     {TV,\"Cable TV\",\"Wireless Internet\",\"Air Condit...   $65.00          NaN   \n",
       "3     {TV,Internet,\"Wireless Internet\",\"Air Conditio...   $75.00       $50.00   \n",
       "4     {Internet,\"Wireless Internet\",\"Air Conditionin...   $79.00       $15.00   \n",
       "...                                                 ...      ...          ...   \n",
       "3580  {Internet,\"Wireless Internet\",\"Air Conditionin...   $69.00          NaN   \n",
       "3581  {TV,Internet,\"Wireless Internet\",\"Air Conditio...  $150.00       $15.00   \n",
       "3582  {\"translation missing: en.hosting_amenity_49\",...  $198.00          NaN   \n",
       "3583  {Kitchen,Gym,\"Family/Kid Friendly\",Washer,Drye...   $65.00          NaN   \n",
       "3584  {\"Wireless Internet\",Kitchen,Essentials,\"trans...   $65.00       $25.00   \n",
       "\n",
       "      availability_30  availability_60  availability_90  availability_365  \\\n",
       "0                   0                0                0                 0   \n",
       "1                  26               54               84               359   \n",
       "2                  19               46               61               319   \n",
       "3                   6               16               26                98   \n",
       "4                  13               34               59               334   \n",
       "...               ...              ...              ...               ...   \n",
       "3580               21               51               81               356   \n",
       "3581               29               59               89               364   \n",
       "3582                0               15               40                40   \n",
       "3583                5                5                5               253   \n",
       "3584               17               45               75               165   \n",
       "\n",
       "      guests_included extra_people  minimum_nights cancellation_policy  \n",
       "0                   1        $0.00               2            moderate  \n",
       "1                   0        $0.00               2            moderate  \n",
       "2                   1       $20.00               3            moderate  \n",
       "3                   2       $25.00               1            moderate  \n",
       "4                   1        $0.00               2            flexible  \n",
       "...               ...          ...             ...                 ...  \n",
       "3580                1       $24.00               2              strict  \n",
       "3581                1        $0.00               3              strict  \n",
       "3582                1        $0.00               3            flexible  \n",
       "3583                1       $30.00               1              strict  \n",
       "3584                1       $30.00               1            flexible  \n",
       "\n",
       "[3585 rows x 20 columns]"
      ]
     },
     "execution_count": 12,
     "metadata": {},
     "output_type": "execute_result"
    }
   ],
   "source": [
    "df"
   ]
  },
  {
   "cell_type": "markdown",
   "metadata": {},
   "source": [
    "**Cleaning individual columns**"
   ]
  },
  {
   "cell_type": "markdown",
   "metadata": {},
   "source": [
    "__*property_type*__\n",
    "\n",
    "Beberapa pembersihan jenis properti diperlukan karena ada banyak kategori dengan hanya beberapa daftar. Kategori \"Apartemen\", \"Rumah\" dan \"Lainnya\" akan digunakan, karena sebagian besar properti dapat diklasifikasikan sebagai apartemen atau rumah."
   ]
  },
  {
   "cell_type": "code",
   "execution_count": 13,
   "metadata": {
    "scrolled": true
   },
   "outputs": [
    {
     "data": {
      "text/plain": [
       "Apartment          2612\n",
       "House               562\n",
       "Condominium         231\n",
       "Townhouse            54\n",
       "Bed & Breakfast      41\n",
       "Loft                 39\n",
       "Other                17\n",
       "Boat                 12\n",
       "Villa                 6\n",
       "Entire Floor          4\n",
       "Dorm                  2\n",
       "Camper/RV             1\n",
       "Guesthouse            1\n",
       "Name: property_type, dtype: int64"
      ]
     },
     "execution_count": 13,
     "metadata": {},
     "output_type": "execute_result"
    }
   ],
   "source": [
    "df.property_type.value_counts()"
   ]
  },
  {
   "cell_type": "markdown",
   "metadata": {},
   "source": [
    "__*bathrooms, bedrooms, bed_type and beds*__\n",
    "\n",
    "Missing values will be replaced with median to avoid strange fractions."
   ]
  },
  {
   "cell_type": "code",
   "execution_count": 14,
   "metadata": {},
   "outputs": [],
   "source": [
    "for col in ['bathrooms', 'bedrooms', 'beds']:\n",
    "    df[col].fillna(df[col].median(), inplace=True)"
   ]
  },
  {
   "cell_type": "code",
   "execution_count": 15,
   "metadata": {
    "scrolled": true
   },
   "outputs": [
    {
     "data": {
      "text/plain": [
       "array([1.5, 1. , 2. , 0. , 2.5, 3.5, 3. , 0.5, 4.5, 4. , 5. , 6. ])"
      ]
     },
     "execution_count": 15,
     "metadata": {},
     "output_type": "execute_result"
    }
   ],
   "source": [
    "df['bathrooms'].unique()"
   ]
  },
  {
   "cell_type": "markdown",
   "metadata": {},
   "source": [
    "> Kita bisa lihat list diatas bahwa terdapat kamar mandi 0.5 menurut listing real estate ini adalah powder room yang hanya terdapat Westafle dan toilet tidak ada shower atau bathtub dan di list ini juga terdapat 1,5 kamar mandi yang artinya kamar mandi ini digunakan bersama dengan pemilik properti atau tamu lain"
   ]
  },
  {
   "cell_type": "markdown",
   "metadata": {},
   "source": [
    "__*amenities*__\n",
    "\n",
    "\"Amenities\" is a list of additional features in the property, i.e. whether it has a TV or parking. "
   ]
  },
  {
   "cell_type": "code",
   "execution_count": 16,
   "metadata": {},
   "outputs": [
    {
     "data": {
      "text/plain": [
       "array(['{TV,\"Wireless Internet\",Kitchen,\"Free Parking on Premises\",\"Pets live on this property\",Dog(s),Heating,\"Family/Kid Friendly\",Washer,Dryer,\"Smoke Detector\",\"Fire Extinguisher\",Essentials,Shampoo,\"Laptop Friendly Workspace\"}'],\n",
       "      dtype=object)"
      ]
     },
     "execution_count": 16,
     "metadata": {},
     "output_type": "execute_result"
    }
   ],
   "source": [
    "df.amenities[:1].values"
   ]
  },
  {
   "cell_type": "code",
   "execution_count": 17,
   "metadata": {},
   "outputs": [],
   "source": [
    "# Creating a set of possible amenities\n",
    "amenities_list = list(df.amenities)\n",
    "amenities_list_string = \" \".join(amenities_list)\n",
    "amenities_list_string = amenities_list_string.replace('{', '')\n",
    "amenities_list_string = amenities_list_string.replace('}', ',')\n",
    "amenities_list_string = amenities_list_string.replace('\"', '')\n",
    "amenities_set = [x.strip() for x in amenities_list_string.split(',')]\n",
    "amenities_set = set(amenities_set)"
   ]
  },
  {
   "cell_type": "code",
   "execution_count": 18,
   "metadata": {},
   "outputs": [],
   "source": [
    "df.loc[df['amenities'].str.contains('24-hour check-in'), 'check_in_24h'] = 1\n",
    "df.loc[df['amenities'].str.contains('Air conditioning'), 'air_conditioning'] = 1\n",
    "df.loc[df['amenities'].str.contains('Breakfast'), 'breakfast'] = 1\n",
    "df.loc[df['amenities'].str.contains('Buzzer/Wireless Intercom|Cable TV'), 'high_end_electronics'] = 1\n",
    "df.loc[df['amenities'].str.contains('Carbon Monoxide Detector|Smoke Detector'), 'smoke_detector'] = 1\n",
    "df.loc[df['amenities'].str.contains('Cat(s)|Pets|Other pet(s)|Pets Allowed|Dog(s)|Pets live on this property'), 'pets_allowed'] = 1\n",
    "df.loc[df['amenities'].str.contains('Doorman|Safety Card'), 'secure'] = 1\n",
    "df.loc[df['amenities'].str.contains('Washer / Dryer|Dryer|Washer'), 'washing_machine'] = 1\n",
    "df.loc[df['amenities'].str.contains('Indoor Fireplace|Heating'), 'heating'] = 1\n",
    "df.loc[df['amenities'].str.contains('Hot Tub'), 'Hot_Tub'] = 1\n",
    "df.loc[df['amenities'].str.contains('Hair Dryer'), 'hair_dryer'] = 1\n",
    "df.loc[df['amenities'].str.contains('Hangers'), 'hangers'] = 1\n",
    "df.loc[df['amenities'].str.contains('Elevator in Building'), 'elevator'] = 1\n",
    "df.loc[df['amenities'].str.contains('Family/kid friendly'), 'child_friendly'] = 1\n",
    "df.loc[df['amenities'].str.contains('Fire Extinguisher'), 'fire_extinguisher'] = 1\n",
    "df.loc[df['amenities'].str.contains('Free Parking on Premises|Free Parking on Street'), 'free_parking'] = 1\n",
    "df.loc[df['amenities'].str.contains('Gym'), 'gym'] = 1\n",
    "df.loc[df['amenities'].str.contains('TV'), 'tv'] = 1\n",
    "df.loc[df['amenities'].str.contains('Kitchen'), 'kitchen'] = 1\n",
    "df.loc[df['amenities'].str.contains('Laptop Friendly Workspace'), 'workspace'] = 1\n",
    "df.loc[df['amenities'].str.contains('Lock on Bedroom Door'), 'room_key'] = 1\n",
    "df.loc[df['amenities'].str.contains('Paid Parking Off Premises'), 'paid_parking'] = 1\n",
    "df.loc[df['amenities'].str.contains('Pool'), 'pool'] = 1\n",
    "df.loc[df['amenities'].str.contains('Smoking allowed'), 'smoking_allowed'] = 1\n",
    "df.loc[df['amenities'].str.contains('Suitable for events'), 'event_suitable'] = 1\n",
    "df.loc[df['amenities'].str.contains('Wheelchair Accessible'), 'wheelchair_access'] = 1\n",
    "df.loc[df['amenities'].str.contains('Internet|Wireless Internet'), 'internet'] = 1\n",
    "df.loc[df['amenities'].str.contains('First Aid Kit'), 'firstAid_kit'] = 1"
   ]
  },
  {
   "cell_type": "code",
   "execution_count": 19,
   "metadata": {},
   "outputs": [
    {
     "name": "stdout",
     "output_type": "stream",
     "text": [
      "<class 'pandas.core.frame.DataFrame'>\n",
      "Int64Index: 3585 entries, 0 to 3584\n",
      "Data columns (total 48 columns):\n",
      " #   Column                  Non-Null Count  Dtype  \n",
      "---  ------                  --------------  -----  \n",
      " 0   neighbourhood_cleansed  3585 non-null   object \n",
      " 1   property_type           3582 non-null   object \n",
      " 2   room_type               3585 non-null   object \n",
      " 3   accommodates            3585 non-null   int64  \n",
      " 4   bathrooms               3585 non-null   float64\n",
      " 5   instant_bookable        3585 non-null   object \n",
      " 6   bedrooms                3585 non-null   float64\n",
      " 7   bed_type                3585 non-null   object \n",
      " 8   beds                    3585 non-null   float64\n",
      " 9   amenities               3585 non-null   object \n",
      " 10  price                   3585 non-null   object \n",
      " 11  cleaning_fee            2478 non-null   object \n",
      " 12  availability_30         3585 non-null   int64  \n",
      " 13  availability_60         3585 non-null   int64  \n",
      " 14  availability_90         3585 non-null   int64  \n",
      " 15  availability_365        3585 non-null   int64  \n",
      " 16  guests_included         3585 non-null   int64  \n",
      " 17  extra_people            3585 non-null   object \n",
      " 18  minimum_nights          3585 non-null   int64  \n",
      " 19  cancellation_policy     3585 non-null   object \n",
      " 20  check_in_24h            0 non-null      float64\n",
      " 21  air_conditioning        0 non-null      float64\n",
      " 22  breakfast               316 non-null    float64\n",
      " 23  high_end_electronics    2080 non-null   float64\n",
      " 24  smoke_detector          2928 non-null   float64\n",
      " 25  pets_allowed            806 non-null    float64\n",
      " 26  secure                  694 non-null    float64\n",
      " 27  washing_machine         3015 non-null   float64\n",
      " 28  heating                 3395 non-null   float64\n",
      " 29  Hot_Tub                 167 non-null    float64\n",
      " 30  hair_dryer              1811 non-null   float64\n",
      " 31  hangers                 1985 non-null   float64\n",
      " 32  elevator                868 non-null    float64\n",
      " 33  child_friendly          0 non-null      float64\n",
      " 34  fire_extinguisher       1582 non-null   float64\n",
      " 35  free_parking            840 non-null    float64\n",
      " 36  gym                     479 non-null    float64\n",
      " 37  tv                      2725 non-null   float64\n",
      " 38  kitchen                 3284 non-null   float64\n",
      " 39  workspace               1834 non-null   float64\n",
      " 40  room_key                474 non-null    float64\n",
      " 41  paid_parking            4 non-null      float64\n",
      " 42  pool                    160 non-null    float64\n",
      " 43  smoking_allowed         0 non-null      float64\n",
      " 44  event_suitable          0 non-null      float64\n",
      " 45  wheelchair_access       148 non-null    float64\n",
      " 46  internet                3459 non-null   float64\n",
      " 47  firstAid_kit            1063 non-null   float64\n",
      "dtypes: float64(31), int64(7), object(10)\n",
      "memory usage: 1.3+ MB\n"
     ]
    }
   ],
   "source": [
    "df.info()"
   ]
  },
  {
   "cell_type": "markdown",
   "metadata": {
    "scrolled": false
   },
   "source": [
    "Salah satu cara untuk mengurangi jumlah fitur adalah dengan menghapus fasilitas yang menambahkan informasi relatif sedikit, atau relatif tidak membantu dalam membedakan antara daftar yang berbeda. Fitur fasilitas yang kategori benar atau salah berisi kurang dari 50% listingan akan dihapus."
   ]
  },
  {
   "cell_type": "code",
   "execution_count": 20,
   "metadata": {},
   "outputs": [
    {
     "data": {
      "text/plain": [
       "Index(['neighbourhood_cleansed', 'property_type', 'room_type', 'accommodates',\n",
       "       'bathrooms', 'instant_bookable', 'bedrooms', 'bed_type', 'beds',\n",
       "       'amenities', 'price', 'cleaning_fee', 'availability_30',\n",
       "       'availability_60', 'availability_90', 'availability_365',\n",
       "       'guests_included', 'extra_people', 'minimum_nights',\n",
       "       'cancellation_policy', 'check_in_24h', 'air_conditioning', 'breakfast',\n",
       "       'high_end_electronics', 'smoke_detector', 'pets_allowed', 'secure',\n",
       "       'washing_machine', 'heating', 'Hot_Tub', 'hair_dryer', 'hangers',\n",
       "       'elevator', 'child_friendly', 'fire_extinguisher', 'free_parking',\n",
       "       'gym', 'tv', 'kitchen', 'workspace', 'room_key', 'paid_parking', 'pool',\n",
       "       'smoking_allowed', 'event_suitable', 'wheelchair_access', 'internet',\n",
       "       'firstAid_kit'],\n",
       "      dtype='object')"
      ]
     },
     "execution_count": 20,
     "metadata": {},
     "output_type": "execute_result"
    }
   ],
   "source": [
    "df.columns"
   ]
  },
  {
   "cell_type": "code",
   "execution_count": 21,
   "metadata": {},
   "outputs": [],
   "source": [
    "df.drop(['amenities','check_in_24h', 'air_conditioning', 'breakfast',\n",
    "'pets_allowed', 'secure','Hot_Tub','elevator', 'child_friendly', 'fire_extinguisher', 'free_parking',\n",
    "       'gym','room_key', 'paid_parking', 'pool',\n",
    "       'smoking_allowed', 'event_suitable', 'wheelchair_access', 'firstAid_kit' ], axis=1, inplace=True)"
   ]
  },
  {
   "cell_type": "code",
   "execution_count": 22,
   "metadata": {},
   "outputs": [
    {
     "name": "stdout",
     "output_type": "stream",
     "text": [
      "<class 'pandas.core.frame.DataFrame'>\n",
      "Int64Index: 3585 entries, 0 to 3584\n",
      "Data columns (total 29 columns):\n",
      " #   Column                  Non-Null Count  Dtype  \n",
      "---  ------                  --------------  -----  \n",
      " 0   neighbourhood_cleansed  3585 non-null   object \n",
      " 1   property_type           3582 non-null   object \n",
      " 2   room_type               3585 non-null   object \n",
      " 3   accommodates            3585 non-null   int64  \n",
      " 4   bathrooms               3585 non-null   float64\n",
      " 5   instant_bookable        3585 non-null   object \n",
      " 6   bedrooms                3585 non-null   float64\n",
      " 7   bed_type                3585 non-null   object \n",
      " 8   beds                    3585 non-null   float64\n",
      " 9   price                   3585 non-null   object \n",
      " 10  cleaning_fee            2478 non-null   object \n",
      " 11  availability_30         3585 non-null   int64  \n",
      " 12  availability_60         3585 non-null   int64  \n",
      " 13  availability_90         3585 non-null   int64  \n",
      " 14  availability_365        3585 non-null   int64  \n",
      " 15  guests_included         3585 non-null   int64  \n",
      " 16  extra_people            3585 non-null   object \n",
      " 17  minimum_nights          3585 non-null   int64  \n",
      " 18  cancellation_policy     3585 non-null   object \n",
      " 19  high_end_electronics    2080 non-null   float64\n",
      " 20  smoke_detector          2928 non-null   float64\n",
      " 21  washing_machine         3015 non-null   float64\n",
      " 22  heating                 3395 non-null   float64\n",
      " 23  hair_dryer              1811 non-null   float64\n",
      " 24  hangers                 1985 non-null   float64\n",
      " 25  tv                      2725 non-null   float64\n",
      " 26  kitchen                 3284 non-null   float64\n",
      " 27  workspace               1834 non-null   float64\n",
      " 28  internet                3459 non-null   float64\n",
      "dtypes: float64(13), int64(7), object(9)\n",
      "memory usage: 840.2+ KB\n"
     ]
    }
   ],
   "source": [
    "df.info()"
   ]
  },
  {
   "cell_type": "code",
   "execution_count": 23,
   "metadata": {},
   "outputs": [
    {
     "name": "stdout",
     "output_type": "stream",
     "text": [
      "<class 'pandas.core.frame.DataFrame'>\n",
      "Int64Index: 3585 entries, 0 to 3584\n",
      "Data columns (total 29 columns):\n",
      " #   Column                  Non-Null Count  Dtype  \n",
      "---  ------                  --------------  -----  \n",
      " 0   neighbourhood_cleansed  3585 non-null   object \n",
      " 1   property_type           3582 non-null   object \n",
      " 2   room_type               3585 non-null   object \n",
      " 3   accommodates            3585 non-null   int64  \n",
      " 4   bathrooms               3585 non-null   float64\n",
      " 5   instant_bookable        3585 non-null   object \n",
      " 6   bedrooms                3585 non-null   float64\n",
      " 7   bed_type                3585 non-null   object \n",
      " 8   beds                    3585 non-null   float64\n",
      " 9   price                   3585 non-null   object \n",
      " 10  cleaning_fee            2478 non-null   object \n",
      " 11  availability_30         3585 non-null   int64  \n",
      " 12  availability_60         3585 non-null   int64  \n",
      " 13  availability_90         3585 non-null   int64  \n",
      " 14  availability_365        3585 non-null   int64  \n",
      " 15  guests_included         3585 non-null   int64  \n",
      " 16  extra_people            3585 non-null   object \n",
      " 17  minimum_nights          3585 non-null   int64  \n",
      " 18  cancellation_policy     3585 non-null   object \n",
      " 19  high_end_electronics    3585 non-null   float64\n",
      " 20  smoke_detector          3585 non-null   float64\n",
      " 21  washing_machine         3585 non-null   float64\n",
      " 22  heating                 3585 non-null   float64\n",
      " 23  hair_dryer              3585 non-null   float64\n",
      " 24  hangers                 3585 non-null   float64\n",
      " 25  tv                      3585 non-null   float64\n",
      " 26  kitchen                 3585 non-null   float64\n",
      " 27  workspace               3585 non-null   float64\n",
      " 28  internet                3585 non-null   float64\n",
      "dtypes: float64(13), int64(7), object(9)\n",
      "memory usage: 840.2+ KB\n"
     ]
    }
   ],
   "source": [
    "cols_to_replace_nulls = df.iloc[:,14:].columns\n",
    "df[cols_to_replace_nulls] = df[cols_to_replace_nulls].fillna(0)\n",
    "df.info()"
   ]
  },
  {
   "cell_type": "markdown",
   "metadata": {},
   "source": [
    "**penjelasan Fasilitas yang di pilih untuk fitur**\n",
    "\n",
    "high_end_electronics : tersedia alat elektronik yang bagus, contoh : tv kabel\n",
    "\n",
    "smoke_detector : tersedia detektor merokok\n",
    "\n",
    "washing_machine : memiliki mesin cuci\n",
    "\n",
    "heating : memiliki pemanas ruangan\n",
    "\n",
    "hair_dryer : memiliki hair dryer\n",
    "\n",
    "hangers : memiliki hanger\n",
    "\n",
    "tv : memiliki tv\n",
    "\n",
    "kitchen : tersedia dapur\n",
    "\n",
    "workspace : tersedia ruang bekerja\n",
    "\n",
    "internet : tersedia internet\n",
    "\n"
   ]
  },
  {
   "cell_type": "markdown",
   "metadata": {},
   "source": [
    "__*cleaning_fee, extra_people*__\n",
    "\n",
    "Kolom ini juga akan diubah menjadi integer.\n",
    "Memiliki nilai yang hilang secara fungsional sama dengan memiliki uang jaminan atau biaya $ 0, jadi nilai yang hilang akan diganti dengan 0."
   ]
  },
  {
   "cell_type": "code",
   "execution_count": 24,
   "metadata": {},
   "outputs": [],
   "source": [
    "df['cleaning_fee'] = df['cleaning_fee'].str.replace(\"$\",\"\").str.replace(\",\",\"\").astype(float)\n",
    "df['extra_people'] = df['extra_people'].str.replace(\"$\",\"\").str.replace(\",\",\"\").astype(float)\n",
    "df.cleaning_fee.fillna(0, inplace=True)"
   ]
  },
  {
   "cell_type": "code",
   "execution_count": 25,
   "metadata": {},
   "outputs": [
    {
     "name": "stdout",
     "output_type": "stream",
     "text": [
      "<class 'pandas.core.frame.DataFrame'>\n",
      "Int64Index: 3585 entries, 0 to 3584\n",
      "Data columns (total 29 columns):\n",
      " #   Column                  Non-Null Count  Dtype  \n",
      "---  ------                  --------------  -----  \n",
      " 0   neighbourhood_cleansed  3585 non-null   object \n",
      " 1   property_type           3582 non-null   object \n",
      " 2   room_type               3585 non-null   object \n",
      " 3   accommodates            3585 non-null   int64  \n",
      " 4   bathrooms               3585 non-null   float64\n",
      " 5   instant_bookable        3585 non-null   object \n",
      " 6   bedrooms                3585 non-null   float64\n",
      " 7   bed_type                3585 non-null   object \n",
      " 8   beds                    3585 non-null   float64\n",
      " 9   price                   3585 non-null   object \n",
      " 10  cleaning_fee            3585 non-null   float64\n",
      " 11  availability_30         3585 non-null   int64  \n",
      " 12  availability_60         3585 non-null   int64  \n",
      " 13  availability_90         3585 non-null   int64  \n",
      " 14  availability_365        3585 non-null   int64  \n",
      " 15  guests_included         3585 non-null   int64  \n",
      " 16  extra_people            3585 non-null   float64\n",
      " 17  minimum_nights          3585 non-null   int64  \n",
      " 18  cancellation_policy     3585 non-null   object \n",
      " 19  high_end_electronics    3585 non-null   float64\n",
      " 20  smoke_detector          3585 non-null   float64\n",
      " 21  washing_machine         3585 non-null   float64\n",
      " 22  heating                 3585 non-null   float64\n",
      " 23  hair_dryer              3585 non-null   float64\n",
      " 24  hangers                 3585 non-null   float64\n",
      " 25  tv                      3585 non-null   float64\n",
      " 26  kitchen                 3585 non-null   float64\n",
      " 27  workspace               3585 non-null   float64\n",
      " 28  internet                3585 non-null   float64\n",
      "dtypes: float64(15), int64(7), object(7)\n",
      "memory usage: 840.2+ KB\n"
     ]
    }
   ],
   "source": [
    "df.info()"
   ]
  },
  {
   "cell_type": "markdown",
   "metadata": {},
   "source": [
    "__*cancellation_policy*__\n",
    "\n",
    "Cleaning of cancellation policy types is required, so that we can categorise the four small categories into three larger categories (e.g. the super strict options are only available to long-term Airbnb hosts, and is invitation only)."
   ]
  },
  {
   "cell_type": "code",
   "execution_count": 26,
   "metadata": {},
   "outputs": [
    {
     "data": {
      "text/plain": [
       "strict             1582\n",
       "flexible            999\n",
       "moderate            919\n",
       "super_strict_30      85\n",
       "Name: cancellation_policy, dtype: int64"
      ]
     },
     "execution_count": 26,
     "metadata": {},
     "output_type": "execute_result"
    }
   ],
   "source": [
    "df.cancellation_policy.value_counts()"
   ]
  },
  {
   "cell_type": "code",
   "execution_count": 27,
   "metadata": {},
   "outputs": [],
   "source": [
    "# Replace categories\n",
    "df.cancellation_policy.replace({'super_strict_30': 'strict'}, inplace=True)"
   ]
  },
  {
   "cell_type": "markdown",
   "metadata": {},
   "source": [
    "#### Availability columns\n",
    "\n",
    "saya membahas fitur yang menjelaskan ketersediaan pemesanan umum dari daftar tertentu dalam 30, 60, 90, atau 365 hari terakhir, yaitu: **availability_30, availability_60,availability_90, availability_365**.  "
   ]
  },
  {
   "cell_type": "code",
   "execution_count": 28,
   "metadata": {},
   "outputs": [],
   "source": [
    "availabilities = df[['availability_30', 'availability_60',\n",
    "       'availability_90', 'availability_365']]"
   ]
  },
  {
   "cell_type": "code",
   "execution_count": 29,
   "metadata": {},
   "outputs": [
    {
     "data": {
      "text/html": [
       "<div>\n",
       "<style scoped>\n",
       "    .dataframe tbody tr th:only-of-type {\n",
       "        vertical-align: middle;\n",
       "    }\n",
       "\n",
       "    .dataframe tbody tr th {\n",
       "        vertical-align: top;\n",
       "    }\n",
       "\n",
       "    .dataframe thead th {\n",
       "        text-align: right;\n",
       "    }\n",
       "</style>\n",
       "<table border=\"1\" class=\"dataframe\">\n",
       "  <thead>\n",
       "    <tr style=\"text-align: right;\">\n",
       "      <th></th>\n",
       "      <th>availability_30</th>\n",
       "      <th>availability_60</th>\n",
       "      <th>availability_90</th>\n",
       "      <th>availability_365</th>\n",
       "    </tr>\n",
       "  </thead>\n",
       "  <tbody>\n",
       "    <tr>\n",
       "      <th>0</th>\n",
       "      <td>0</td>\n",
       "      <td>0</td>\n",
       "      <td>0</td>\n",
       "      <td>0</td>\n",
       "    </tr>\n",
       "    <tr>\n",
       "      <th>12</th>\n",
       "      <td>0</td>\n",
       "      <td>0</td>\n",
       "      <td>0</td>\n",
       "      <td>0</td>\n",
       "    </tr>\n",
       "    <tr>\n",
       "      <th>17</th>\n",
       "      <td>0</td>\n",
       "      <td>0</td>\n",
       "      <td>0</td>\n",
       "      <td>0</td>\n",
       "    </tr>\n",
       "    <tr>\n",
       "      <th>23</th>\n",
       "      <td>0</td>\n",
       "      <td>0</td>\n",
       "      <td>0</td>\n",
       "      <td>0</td>\n",
       "    </tr>\n",
       "    <tr>\n",
       "      <th>24</th>\n",
       "      <td>0</td>\n",
       "      <td>0</td>\n",
       "      <td>0</td>\n",
       "      <td>0</td>\n",
       "    </tr>\n",
       "    <tr>\n",
       "      <th>25</th>\n",
       "      <td>0</td>\n",
       "      <td>0</td>\n",
       "      <td>0</td>\n",
       "      <td>1</td>\n",
       "    </tr>\n",
       "    <tr>\n",
       "      <th>32</th>\n",
       "      <td>0</td>\n",
       "      <td>0</td>\n",
       "      <td>3</td>\n",
       "      <td>17</td>\n",
       "    </tr>\n",
       "    <tr>\n",
       "      <th>41</th>\n",
       "      <td>0</td>\n",
       "      <td>0</td>\n",
       "      <td>0</td>\n",
       "      <td>0</td>\n",
       "    </tr>\n",
       "    <tr>\n",
       "      <th>59</th>\n",
       "      <td>0</td>\n",
       "      <td>0</td>\n",
       "      <td>0</td>\n",
       "      <td>0</td>\n",
       "    </tr>\n",
       "    <tr>\n",
       "      <th>62</th>\n",
       "      <td>0</td>\n",
       "      <td>0</td>\n",
       "      <td>0</td>\n",
       "      <td>0</td>\n",
       "    </tr>\n",
       "    <tr>\n",
       "      <th>63</th>\n",
       "      <td>1</td>\n",
       "      <td>3</td>\n",
       "      <td>3</td>\n",
       "      <td>23</td>\n",
       "    </tr>\n",
       "    <tr>\n",
       "      <th>66</th>\n",
       "      <td>0</td>\n",
       "      <td>0</td>\n",
       "      <td>0</td>\n",
       "      <td>0</td>\n",
       "    </tr>\n",
       "    <tr>\n",
       "      <th>68</th>\n",
       "      <td>0</td>\n",
       "      <td>0</td>\n",
       "      <td>0</td>\n",
       "      <td>0</td>\n",
       "    </tr>\n",
       "    <tr>\n",
       "      <th>71</th>\n",
       "      <td>0</td>\n",
       "      <td>0</td>\n",
       "      <td>0</td>\n",
       "      <td>0</td>\n",
       "    </tr>\n",
       "    <tr>\n",
       "      <th>72</th>\n",
       "      <td>0</td>\n",
       "      <td>0</td>\n",
       "      <td>0</td>\n",
       "      <td>0</td>\n",
       "    </tr>\n",
       "    <tr>\n",
       "      <th>73</th>\n",
       "      <td>0</td>\n",
       "      <td>12</td>\n",
       "      <td>15</td>\n",
       "      <td>15</td>\n",
       "    </tr>\n",
       "    <tr>\n",
       "      <th>74</th>\n",
       "      <td>0</td>\n",
       "      <td>0</td>\n",
       "      <td>0</td>\n",
       "      <td>0</td>\n",
       "    </tr>\n",
       "    <tr>\n",
       "      <th>80</th>\n",
       "      <td>0</td>\n",
       "      <td>0</td>\n",
       "      <td>0</td>\n",
       "      <td>0</td>\n",
       "    </tr>\n",
       "    <tr>\n",
       "      <th>84</th>\n",
       "      <td>0</td>\n",
       "      <td>0</td>\n",
       "      <td>0</td>\n",
       "      <td>0</td>\n",
       "    </tr>\n",
       "    <tr>\n",
       "      <th>85</th>\n",
       "      <td>0</td>\n",
       "      <td>0</td>\n",
       "      <td>0</td>\n",
       "      <td>0</td>\n",
       "    </tr>\n",
       "  </tbody>\n",
       "</table>\n",
       "</div>"
      ],
      "text/plain": [
       "    availability_30  availability_60  availability_90  availability_365\n",
       "0                 0                0                0                 0\n",
       "12                0                0                0                 0\n",
       "17                0                0                0                 0\n",
       "23                0                0                0                 0\n",
       "24                0                0                0                 0\n",
       "25                0                0                0                 1\n",
       "32                0                0                3                17\n",
       "41                0                0                0                 0\n",
       "59                0                0                0                 0\n",
       "62                0                0                0                 0\n",
       "63                1                3                3                23\n",
       "66                0                0                0                 0\n",
       "68                0                0                0                 0\n",
       "71                0                0                0                 0\n",
       "72                0                0                0                 0\n",
       "73                0               12               15                15\n",
       "74                0                0                0                 0\n",
       "80                0                0                0                 0\n",
       "84                0                0                0                 0\n",
       "85                0                0                0                 0"
      ]
     },
     "execution_count": 29,
     "metadata": {},
     "output_type": "execute_result"
    }
   ],
   "source": [
    "availabilities[availabilities['availability_365'] < 36.5].head(20)"
   ]
  },
  {
   "cell_type": "code",
   "execution_count": 30,
   "metadata": {},
   "outputs": [
    {
     "data": {
      "text/plain": [
       "<AxesSubplot:>"
      ]
     },
     "execution_count": 30,
     "metadata": {},
     "output_type": "execute_result"
    },
    {
     "data": {
      "image/png": "[encoded data removed]",
      "text/plain": [
       "<Figure size 432x288 with 2 Axes>"
      ]
     },
     "metadata": {
      "needs_background": "light"
     },
     "output_type": "display_data"
    }
   ],
   "source": [
    "sns.heatmap(availabilities.corr(), annot=True)"
   ]
  },
  {
   "cell_type": "markdown",
   "metadata": {},
   "source": [
    "Berdasarkan histogram, plot korelasi, dan kasus ketika ketersediaan kecil secara umum (menyebabkan banyak duplikasi), saya memutuskan untuk hanya menyimpan kolom ** availability_365 ** karena berisi informasi tentang kemungkinan pemesanan selama periode waktu terbesar."
   ]
  },
  {
   "cell_type": "code",
   "execution_count": 31,
   "metadata": {},
   "outputs": [],
   "source": [
    "df.drop([ 'availability_30', 'availability_60',\n",
    "       'availability_90'],axis=1,inplace=True)"
   ]
  },
  {
   "cell_type": "markdown",
   "metadata": {},
   "source": [
    "### Target variable exploration"
   ]
  },
  {
   "cell_type": "code",
   "execution_count": 32,
   "metadata": {},
   "outputs": [
    {
     "data": {
      "text/plain": [
       "0       $250.00\n",
       "1        $65.00\n",
       "2        $65.00\n",
       "3        $75.00\n",
       "4        $79.00\n",
       "         ...   \n",
       "3580     $69.00\n",
       "3581    $150.00\n",
       "3582    $198.00\n",
       "3583     $65.00\n",
       "3584     $65.00\n",
       "Name: price, Length: 3585, dtype: object"
      ]
     },
     "execution_count": 32,
     "metadata": {},
     "output_type": "execute_result"
    }
   ],
   "source": [
    "df['price']"
   ]
  },
  {
   "cell_type": "code",
   "execution_count": 33,
   "metadata": {
    "scrolled": true
   },
   "outputs": [
    {
     "data": {
      "text/plain": [
       "array(['$250.00', '$65.00', '$75.00', '$79.00', '$100.00', '$58.00',\n",
       "       '$229.00', '$60.00', '$57.00', '$93.00', '$150.00', '$145.00',\n",
       "       '$165.00', '$49.00', '$40.00', '$120.00', '$70.00', '$175.00',\n",
       "       '$95.00', '$90.00', '$67.00', '$55.00', '$200.00', '$110.00',\n",
       "       '$115.00', '$125.00', '$78.00', '$50.00', '$45.00', '$85.00',\n",
       "       '$89.00', '$285.00', '$140.00', '$80.00', '$63.00', '$46.00',\n",
       "       '$62.00', '$69.00', '$73.00', '$61.00', '$27.00', '$190.00',\n",
       "       '$149.00', '$168.00', '$205.00', '$117.00', '$429.00', '$267.00',\n",
       "       '$87.00', '$300.00', '$119.00', '$195.00', '$210.00', '$500.00',\n",
       "       '$130.00', '$450.00', '$399.00', '$350.00', '$99.00', '$295.00',\n",
       "       '$107.00', '$76.00', '$59.00', '$88.00', '$164.00', '$185.00',\n",
       "       '$105.00', '$319.00', '$53.00', '$199.00', '$114.00', '$180.00',\n",
       "       '$92.00', '$84.00', '$275.00', '$230.00', '$192.00', '$170.00',\n",
       "       '$240.00', '$225.00', '$178.00', '$109.00', '$383.00', '$184.00',\n",
       "       '$299.00', '$155.00', '$135.00', '$29.00', '$68.00', '$136.00',\n",
       "       '$189.00', '$72.00', '$22.00', '$82.00', '$160.00', '$94.00',\n",
       "       '$83.00', '$750.00', '$77.00', '$71.00', '$220.00', '$54.00',\n",
       "       '$480.00', '$550.00', '$325.00', '$290.00', '$159.00', '$56.00',\n",
       "       '$235.00', '$86.00', '$255.00', '$91.00', '$81.00', '$48.00',\n",
       "       '$37.00', '$525.00', '$25.00', '$64.00', '$725.00', '$179.00',\n",
       "       '$249.00', '$239.00', '$30.00', '$872.00', '$269.00', '$169.00',\n",
       "       '$52.00', '$208.00', '$349.00', '$35.00', '$41.00', '$20.00',\n",
       "       '$74.00', '$42.00', '$103.00', '$272.00', '$28.00', '$215.00',\n",
       "       '$246.00', '$289.00', '$247.00', '$139.00', '$188.00', '$400.00',\n",
       "       '$375.00', '$129.00', '$245.00', '$390.00', '$219.00', '$259.00',\n",
       "       '$389.00', '$270.00', '$296.00', '$209.00', '$287.00', '$242.00',\n",
       "       '$361.00', '$320.00', '$171.00', '$182.00', '$260.00', '$102.00',\n",
       "       '$425.00', '$310.00', '$559.00', '$212.00', '$131.00', '$315.00',\n",
       "       '$380.00', '$600.00', '$152.00', '$345.00', '$132.00', '$167.00',\n",
       "       '$265.00', '$1,400.00', '$148.00', '$536.00', '$33.00', '$236.00',\n",
       "       '$330.00', '$39.00', '$163.00', '$650.00', '$625.00', '$176.00',\n",
       "       '$279.00', '$373.00', '$154.00', '$234.00', '$329.00', '$138.00',\n",
       "       '$137.00', '$98.00', '$306.00', '$197.00', '$1,300.00', '$266.00',\n",
       "       '$280.00', '$183.00', '$166.00', '$157.00', '$575.00', '$147.00',\n",
       "       '$417.00', '$800.00', '$133.00', '$186.00', '$700.00', '$144.00',\n",
       "       '$217.00', '$228.00', '$238.00', '$161.00', '$177.00', '$122.00',\n",
       "       '$254.00', '$146.00', '$106.00', '$379.00', '$359.00', '$449.00',\n",
       "       '$251.00', '$342.00', '$232.00', '$1,250.00', '$174.00', '$695.00',\n",
       "       '$363.00', '$298.00', '$276.00', '$479.00', '$385.00', '$464.00',\n",
       "       '$97.00', '$151.00', '$207.00', '$297.00', '$451.00', '$196.00',\n",
       "       '$975.00', '$194.00', '$257.00', '$218.00', '$281.00', '$568.00',\n",
       "       '$699.00', '$256.00', '$286.00', '$356.00', '$248.00', '$128.00',\n",
       "       '$112.00', '$44.00', '$181.00', '$124.00', '$143.00', '$599.00',\n",
       "       '$158.00', '$680.00', '$1,000.00', '$224.00', '$395.00', '$769.00',\n",
       "       '$113.00', '$305.00', '$1,235.00', '$104.00', '$324.00', '$849.00',\n",
       "       '$1,345.00', '$499.00', '$690.00', '$202.00', '$10.00', '$334.00',\n",
       "       '$153.00', '$204.00', '$206.00', '$365.00', '$293.00', '$309.00',\n",
       "       '$1,372.00', '$127.00', '$213.00', '$570.00', '$4,000.00',\n",
       "       '$326.00', '$193.00', '$142.00', '$241.00', '$603.00', '$123.00',\n",
       "       '$1,275.00', '$96.00', '$999.00', '$198.00', '$227.00', '$38.00',\n",
       "       '$283.00', '$32.00', '$211.00', '$108.00', '$223.00', '$47.00',\n",
       "       '$31.00', '$51.00', '$264.00', '$34.00', '$126.00', '$36.00',\n",
       "       '$3,000.00', '$214.00', '$506.00', '$402.00', '$118.00', '$134.00',\n",
       "       '$391.00', '$156.00', '$524.00', '$187.00', '$11.00', '$66.00',\n",
       "       '$459.00'], dtype=object)"
      ]
     },
     "execution_count": 33,
     "metadata": {},
     "output_type": "execute_result"
    }
   ],
   "source": [
    "df['price'].unique()"
   ]
  },
  {
   "cell_type": "code",
   "execution_count": 34,
   "metadata": {},
   "outputs": [],
   "source": [
    "df['price'] = df['price'].str.replace(\"$\",\"\").str.replace(\",\",\"\").astype(float)"
   ]
  },
  {
   "cell_type": "code",
   "execution_count": 35,
   "metadata": {},
   "outputs": [
    {
     "data": {
      "text/html": [
       "<div>\n",
       "<style scoped>\n",
       "    .dataframe tbody tr th:only-of-type {\n",
       "        vertical-align: middle;\n",
       "    }\n",
       "\n",
       "    .dataframe tbody tr th {\n",
       "        vertical-align: top;\n",
       "    }\n",
       "\n",
       "    .dataframe thead th {\n",
       "        text-align: right;\n",
       "    }\n",
       "</style>\n",
       "<table border=\"1\" class=\"dataframe\">\n",
       "  <thead>\n",
       "    <tr style=\"text-align: right;\">\n",
       "      <th></th>\n",
       "      <th>neighbourhood_cleansed</th>\n",
       "      <th>property_type</th>\n",
       "      <th>room_type</th>\n",
       "      <th>accommodates</th>\n",
       "      <th>bathrooms</th>\n",
       "      <th>instant_bookable</th>\n",
       "      <th>bedrooms</th>\n",
       "      <th>bed_type</th>\n",
       "      <th>beds</th>\n",
       "      <th>price</th>\n",
       "      <th>cleaning_fee</th>\n",
       "      <th>availability_365</th>\n",
       "      <th>guests_included</th>\n",
       "      <th>extra_people</th>\n",
       "      <th>minimum_nights</th>\n",
       "      <th>cancellation_policy</th>\n",
       "      <th>high_end_electronics</th>\n",
       "      <th>smoke_detector</th>\n",
       "      <th>washing_machine</th>\n",
       "      <th>heating</th>\n",
       "      <th>hair_dryer</th>\n",
       "      <th>hangers</th>\n",
       "      <th>tv</th>\n",
       "      <th>kitchen</th>\n",
       "      <th>workspace</th>\n",
       "      <th>internet</th>\n",
       "    </tr>\n",
       "  </thead>\n",
       "  <tbody>\n",
       "  </tbody>\n",
       "</table>\n",
       "</div>"
      ],
      "text/plain": [
       "Empty DataFrame\n",
       "Columns: [neighbourhood_cleansed, property_type, room_type, accommodates, bathrooms, instant_bookable, bedrooms, bed_type, beds, price, cleaning_fee, availability_365, guests_included, extra_people, minimum_nights, cancellation_policy, high_end_electronics, smoke_detector, washing_machine, heating, hair_dryer, hangers, tv, kitchen, workspace, internet]\n",
       "Index: []"
      ]
     },
     "execution_count": 35,
     "metadata": {},
     "output_type": "execute_result"
    }
   ],
   "source": [
    "df[df['price'] == 0]"
   ]
  },
  {
   "cell_type": "code",
   "execution_count": 36,
   "metadata": {},
   "outputs": [
    {
     "data": {
      "image/png": "[encoded data removed]",
      "text/plain": [
       "<Figure size 720x360 with 1 Axes>"
      ]
     },
     "metadata": {
      "needs_background": "light"
     },
     "output_type": "display_data"
    }
   ],
   "source": [
    "plt.figure(figsize=(10, 5));\n",
    "df['price'].hist(bins = 30);\n",
    "plt.title('Price of AirBNBs', size = 16, weight = 'bold', color='C0');\n",
    "plt.ylabel('Count of AirBnbs', weight = 'bold', size = 16, color='C0');\n",
    "plt.xlabel('Price (USD)', weight = 'bold', size= 16, color='C0');"
   ]
  },
  {
   "cell_type": "code",
   "execution_count": 37,
   "metadata": {},
   "outputs": [
    {
     "data": {
      "image/png": "[encoded data removed]",
      "text/plain": [
       "<Figure size 720x360 with 1 Axes>"
      ]
     },
     "metadata": {
      "needs_background": "light"
     },
     "output_type": "display_data"
    }
   ],
   "source": [
    "plt.figure(figsize=(10, 5));\n",
    "sns.boxplot(df['price']);\n",
    "plt.title('Price of AirBNBs', size = 16, weight = 'bold', color='C0');\n",
    "plt.ylabel('Count of AirBnbs', weight = 'bold', size = 16, color='C0');\n",
    "plt.xlabel('Price (USD)', weight = 'bold', size= 16, color='C0');"
   ]
  },
  {
   "cell_type": "code",
   "execution_count": 38,
   "metadata": {},
   "outputs": [
    {
     "data": {
      "image/png": "[encoded data removed]",
      "text/plain": [
       "<Figure size 720x360 with 1 Axes>"
      ]
     },
     "metadata": {
      "needs_background": "light"
     },
     "output_type": "display_data"
    }
   ],
   "source": [
    "df['log_price'] = np.log1p(df['price'])\n",
    "plt.figure(figsize=(10, 5));\n",
    "df['log_price'].hist(bins = 30);\n",
    "plt.title('Price of AirBNBs', size = 16, weight = 'bold', color='C0');\n",
    "plt.ylabel('Count of AirBnbs', weight = 'bold', size = 16, color='C0');\n",
    "plt.xlabel('Price (USD)', weight = 'bold', size= 16, color='C0');"
   ]
  },
  {
   "cell_type": "code",
   "execution_count": 40,
   "metadata": {},
   "outputs": [
    {
     "data": {
      "image/png": "[encoded data removed]",
      "text/plain": [
       "<Figure size 720x360 with 1 Axes>"
      ]
     },
     "metadata": {
      "needs_background": "light"
     },
     "output_type": "display_data"
    }
   ],
   "source": [
    "plt.figure(figsize=(10, 5));\n",
    "sns.boxplot(df['log_price']);\n",
    "plt.title('Price of AirBNBs', size = 16, weight = 'bold', color='C0');\n",
    "plt.ylabel('Count of AirBnbs', weight = 'bold', size = 16, color='C0');\n",
    "plt.xlabel('Price (USD)', weight = 'bold', size= 16, color='C0');"
   ]
  },
  {
   "cell_type": "code",
   "execution_count": 41,
   "metadata": {
    "scrolled": false
   },
   "outputs": [
    {
     "name": "stdout",
     "output_type": "stream",
     "text": [
      "<class 'pandas.core.frame.DataFrame'>\n",
      "Int64Index: 3585 entries, 0 to 3584\n",
      "Data columns (total 27 columns):\n",
      " #   Column                  Non-Null Count  Dtype  \n",
      "---  ------                  --------------  -----  \n",
      " 0   neighbourhood_cleansed  3585 non-null   object \n",
      " 1   property_type           3582 non-null   object \n",
      " 2   room_type               3585 non-null   object \n",
      " 3   accommodates            3585 non-null   int64  \n",
      " 4   bathrooms               3585 non-null   float64\n",
      " 5   instant_bookable        3585 non-null   object \n",
      " 6   bedrooms                3585 non-null   float64\n",
      " 7   bed_type                3585 non-null   object \n",
      " 8   beds                    3585 non-null   float64\n",
      " 9   price                   3585 non-null   float64\n",
      " 10  cleaning_fee            3585 non-null   float64\n",
      " 11  availability_365        3585 non-null   int64  \n",
      " 12  guests_included         3585 non-null   int64  \n",
      " 13  extra_people            3585 non-null   float64\n",
      " 14  minimum_nights          3585 non-null   int64  \n",
      " 15  cancellation_policy     3585 non-null   object \n",
      " 16  high_end_electronics    3585 non-null   float64\n",
      " 17  smoke_detector          3585 non-null   float64\n",
      " 18  washing_machine         3585 non-null   float64\n",
      " 19  heating                 3585 non-null   float64\n",
      " 20  hair_dryer              3585 non-null   float64\n",
      " 21  hangers                 3585 non-null   float64\n",
      " 22  tv                      3585 non-null   float64\n",
      " 23  kitchen                 3585 non-null   float64\n",
      " 24  workspace               3585 non-null   float64\n",
      " 25  internet                3585 non-null   float64\n",
      " 26  log_price               3585 non-null   float64\n",
      "dtypes: float64(17), int64(4), object(6)\n",
      "memory usage: 784.2+ KB\n"
     ]
    }
   ],
   "source": [
    "df.info()"
   ]
  },
  {
   "cell_type": "markdown",
   "metadata": {},
   "source": [
    "karena sulit untuk mengganti nan pada 'property_type'maka nan nya saya drop"
   ]
  },
  {
   "cell_type": "code",
   "execution_count": 42,
   "metadata": {
    "scrolled": true
   },
   "outputs": [],
   "source": [
    "df.dropna(axis=0,inplace=True)"
   ]
  },
  {
   "cell_type": "code",
   "execution_count": 43,
   "metadata": {},
   "outputs": [
    {
     "name": "stdout",
     "output_type": "stream",
     "text": [
      "<class 'pandas.core.frame.DataFrame'>\n",
      "Int64Index: 3582 entries, 0 to 3584\n",
      "Data columns (total 27 columns):\n",
      " #   Column                  Non-Null Count  Dtype  \n",
      "---  ------                  --------------  -----  \n",
      " 0   neighbourhood_cleansed  3582 non-null   object \n",
      " 1   property_type           3582 non-null   object \n",
      " 2   room_type               3582 non-null   object \n",
      " 3   accommodates            3582 non-null   int64  \n",
      " 4   bathrooms               3582 non-null   float64\n",
      " 5   instant_bookable        3582 non-null   object \n",
      " 6   bedrooms                3582 non-null   float64\n",
      " 7   bed_type                3582 non-null   object \n",
      " 8   beds                    3582 non-null   float64\n",
      " 9   price                   3582 non-null   float64\n",
      " 10  cleaning_fee            3582 non-null   float64\n",
      " 11  availability_365        3582 non-null   int64  \n",
      " 12  guests_included         3582 non-null   int64  \n",
      " 13  extra_people            3582 non-null   float64\n",
      " 14  minimum_nights          3582 non-null   int64  \n",
      " 15  cancellation_policy     3582 non-null   object \n",
      " 16  high_end_electronics    3582 non-null   float64\n",
      " 17  smoke_detector          3582 non-null   float64\n",
      " 18  washing_machine         3582 non-null   float64\n",
      " 19  heating                 3582 non-null   float64\n",
      " 20  hair_dryer              3582 non-null   float64\n",
      " 21  hangers                 3582 non-null   float64\n",
      " 22  tv                      3582 non-null   float64\n",
      " 23  kitchen                 3582 non-null   float64\n",
      " 24  workspace               3582 non-null   float64\n",
      " 25  internet                3582 non-null   float64\n",
      " 26  log_price               3582 non-null   float64\n",
      "dtypes: float64(17), int64(4), object(6)\n",
      "memory usage: 783.6+ KB\n"
     ]
    }
   ],
   "source": [
    "df.info()"
   ]
  },
  {
   "cell_type": "code",
   "execution_count": 44,
   "metadata": {},
   "outputs": [],
   "source": [
    "df.to_csv('listings_cleaned.csv', index=False)"
   ]
  },
  {
   "cell_type": "code",
   "execution_count": null,
   "metadata": {},
   "outputs": [],
   "source": []
  },
  {
   "cell_type": "code",
   "execution_count": null,
   "metadata": {},
   "outputs": [],
   "source": []
  }
 ],
 "metadata": {
  "kernelspec": {
   "display_name": "Python 3",
   "language": "python",
   "name": "python3"
  },
  "language_info": {
   "codemirror_mode": {
    "name": "ipython",
    "version": 3
   },
   "file_extension": ".py",
   "mimetype": "text/x-python",
   "name": "python",
   "nbconvert_exporter": "python",
   "pygments_lexer": "ipython3",
   "version": "3.8.2"
  }
 },
 "nbformat": 4,
 "nbformat_minor": 4
}
